{
 "cells": [
  {
   "cell_type": "code",
   "execution_count": 1,
   "metadata": {},
   "outputs": [],
   "source": [
    "import cv2"
   ]
  },
  {
   "cell_type": "code",
   "execution_count": 2,
   "metadata": {},
   "outputs": [],
   "source": [
    "def showimage(imgarr, title=\"Example\"):\n",
    "    cv2.imshow(title,imgarr)\n",
    "    cv2.waitKey(0)\n",
    "    cv2.destroyAllWindows()"
   ]
  },
  {
   "cell_type": "code",
   "execution_count": 3,
   "metadata": {},
   "outputs": [],
   "source": [
    "def overlay_gridlines(image_path, grid_size=13, lineThickness=1, color=(0,255,0), alpha=0.4):\n",
    "    # Draws gridlines onto image as if image were split uniformly into a NxN grid, where N=grid_size.\n",
    "    image=cv2.imread(image_path)\n",
    "    overlay=image.copy()\n",
    "    \n",
    "    # optional params\n",
    "    gs=grid_size\n",
    "    lineThickness=lineThickness\n",
    "    color=color\n",
    "    alpha=alpha\n",
    "    \n",
    "    w, h, numchannels = image.shape\n",
    "    gw = w//gs\n",
    "    gh = h//gs\n",
    "    # vertical lines\n",
    "    for i in range(1,gs):\n",
    "        overlay = cv2.line(overlay, (i*gw, 0), (i*gw, h), color, lineThickness)\n",
    "\n",
    "    # horizontal lines:\n",
    "    for i in range(1,gs):\n",
    "        overlay = cv2.line(overlay, (0, i*gh), (w, i*gh), color, lineThickness)\n",
    "\n",
    "    # overlay\n",
    "    image_new = cv2.addWeighted(overlay, alpha, image, 1 - alpha, 0)\n",
    "    \n",
    "    return image_new"
   ]
  },
  {
   "cell_type": "code",
   "execution_count": 4,
   "metadata": {},
   "outputs": [],
   "source": [
    "# sample function call\n",
    "new1 = overlay_gridlines(\"sample_416.png\", color=(255,0,0), alpha=0.2)"
   ]
  },
  {
   "cell_type": "code",
   "execution_count": 5,
   "metadata": {},
   "outputs": [],
   "source": [
    "# show\n",
    "showimage(new1)"
   ]
  },
  {
   "cell_type": "code",
   "execution_count": 7,
   "metadata": {},
   "outputs": [
    {
     "data": {
      "text/plain": [
       "True"
      ]
     },
     "execution_count": 7,
     "metadata": {},
     "output_type": "execute_result"
    }
   ],
   "source": [
    "# save\n",
    "cv2.imwrite(f'gridlines.png',new1)"
   ]
  },
  {
   "cell_type": "code",
   "execution_count": null,
   "metadata": {},
   "outputs": [],
   "source": []
  }
 ],
 "metadata": {
  "kernelspec": {
   "display_name": "Python 3",
   "language": "python",
   "name": "python3"
  },
  "language_info": {
   "codemirror_mode": {
    "name": "ipython",
    "version": 3
   },
   "file_extension": ".py",
   "mimetype": "text/x-python",
   "name": "python",
   "nbconvert_exporter": "python",
   "pygments_lexer": "ipython3",
   "version": "3.6.7"
  }
 },
 "nbformat": 4,
 "nbformat_minor": 2
}
